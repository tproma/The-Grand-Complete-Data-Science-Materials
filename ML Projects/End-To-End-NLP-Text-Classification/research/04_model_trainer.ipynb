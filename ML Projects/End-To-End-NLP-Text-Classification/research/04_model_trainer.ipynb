{
 "cells": [
  {
   "cell_type": "code",
   "execution_count": 1,
   "metadata": {},
   "outputs": [],
   "source": [
    "import os"
   ]
  },
  {
   "cell_type": "code",
   "execution_count": 2,
   "metadata": {},
   "outputs": [
    {
     "data": {
      "text/plain": [
       "'d:\\\\A_Category\\\\iNeuron\\\\End-To-End-NLP-Project-News-Article-Sorting\\\\research'"
      ]
     },
     "execution_count": 2,
     "metadata": {},
     "output_type": "execute_result"
    }
   ],
   "source": [
    "%pwd"
   ]
  },
  {
   "cell_type": "code",
   "execution_count": 3,
   "metadata": {},
   "outputs": [],
   "source": [
    "os.chdir(\"../\")"
   ]
  },
  {
   "cell_type": "code",
   "execution_count": 4,
   "metadata": {},
   "outputs": [
    {
     "data": {
      "text/plain": [
       "'d:\\\\A_Category\\\\iNeuron\\\\End-To-End-NLP-Project-News-Article-Sorting'"
      ]
     },
     "execution_count": 4,
     "metadata": {},
     "output_type": "execute_result"
    }
   ],
   "source": [
    "%pwd"
   ]
  },
  {
   "cell_type": "code",
   "execution_count": 5,
   "metadata": {},
   "outputs": [],
   "source": [
    "from dataclasses import dataclass\n",
    "from pathlib import Path\n",
    "\n",
    "@dataclass(frozen= True)\n",
    "class ModeTrainerConfig:\n",
    "  root_dir: Path\n",
    "  train_data_path: Path\n",
    "  val_data_path: Path\n",
    "  model_ckpt: Path\n",
    "  output_dir: Path\n",
    "  learning_rate: float\n",
    "  per_device_train_batch_size: int\n",
    "  per_device_eval_batch_size: int\n",
    "  num_train_epochs: int\n",
    "  weight_decay: float\n",
    "  eval_steps: int\n",
    "  evaluation_strategy: str\n",
    "  save_strategy: str\n",
    "  load_best_model_at_end: bool"
   ]
  },
  {
   "cell_type": "code",
   "execution_count": 11,
   "metadata": {},
   "outputs": [],
   "source": [
    "from ArticleSorting.constants import *\n",
    "from ArticleSorting.utils.common import read_yaml, create_directories"
   ]
  },
  {
   "cell_type": "code",
   "execution_count": 12,
   "metadata": {},
   "outputs": [],
   "source": [
    "class ConfigurationManager:\n",
    "    def __init__(self, \n",
    "                 config_filepath = CONFIG_FILE_PATH,\n",
    "                 params_filepath = PARAMS_FILE_PATH):\n",
    "        \n",
    "        self.config = read_yaml(config_filepath)\n",
    "        self.params = read_yaml(params_filepath)\n",
    "\n",
    "        create_directories([self.config.artifacts_root])\n",
    "\n",
    "    def get_model_trainer_config(self) -> ModeTrainerConfig:\n",
    "        config = self.config.model_trainer\n",
    "        params = self.params.TrainingArguments\n",
    "\n",
    "        create_directories([config.root_dir])\n",
    "\n",
    "        model_trainer_config = ModeTrainerConfig(\n",
    "            root_dir = config.root_dir,\n",
    "            train_data_path = config.train_data_path,\n",
    "            val_data_path = config.val_data_path,\n",
    "            model_ckpt = config.model_ckpt,\n",
    "            output_dir = params.output_dir,\n",
    "            learning_rate  = params.learning_rate,\n",
    "            per_device_train_batch_size  = params.per_device_train_batch_size,\n",
    "            per_device_eval_batch_size  = params.per_device_eval_batch_size,\n",
    "            num_train_epochs  = params.num_train_epochs,\n",
    "            weight_decay= params.weight_decay,\n",
    "            eval_steps= params.eval_steps,\n",
    "            evaluation_strategy= params.evaluation_strategy,\n",
    "            save_strategy = params.save_strategy,\n",
    "            load_best_model_at_end= params.load_best_model_at_end\n",
    "        )\n",
    "\n",
    "        return model_trainer_config\n"
   ]
  },
  {
   "cell_type": "code",
   "execution_count": 8,
   "metadata": {},
   "outputs": [
    {
     "name": "stderr",
     "output_type": "stream",
     "text": [
      "c:\\Users\\Tanjina\\anaconda3\\envs\\textSort\\lib\\site-packages\\tqdm\\auto.py:21: TqdmWarning: IProgress not found. Please update jupyter and ipywidgets. See https://ipywidgets.readthedocs.io/en/stable/user_install.html\n",
      "  from .autonotebook import tqdm as notebook_tqdm\n"
     ]
    }
   ],
   "source": [
    "from transformers import TrainingArguments, Trainer\n",
    "from transformers import AutoTokenizer, AutoModelForSequenceClassification\n",
    "import torch\n",
    "from torch.utils.data import DataLoader\n",
    "from datasets import load_from_disk\n",
    "\n",
    "import evaluate\n",
    "import numpy as np"
   ]
  },
  {
   "cell_type": "code",
   "execution_count": 13,
   "metadata": {},
   "outputs": [],
   "source": [
    "class ModeTrainer:\n",
    "    def __init__(self, config: ModeTrainerConfig) :\n",
    "        self.config = config\n",
    "\n",
    "    def train(self):\n",
    "        device = \"cuda\" if torch.cuda.is_available() else \"cpu\"\n",
    "        print(device)\n",
    "        # Empty cache\n",
    "        torch.cuda.empty_cache()\n",
    "\n",
    "        # Loading data\n",
    "        train_dataset = load_from_disk(self.config.train_data_path)\n",
    "        val_dataset = load_from_disk(self.config.val_data_path)\n",
    "    \n",
    "        # DataLoader\n",
    "        #train_dataloader = DataLoader(dataset=train_dataset, shuffle=True, batch_size=4)\n",
    "        #eval_dataloader = DataLoader(dataset=test_dataset, batch_size=4)\n",
    "\n",
    "        tokenizer = AutoTokenizer.from_pretrained(self.config.model_ckpt)\n",
    "        id2label = {0: \"business\", 1: \"entertainment\", 2: \"politics\", 3: \"sport\", 4: \"tech\"}\n",
    "        label2id = {\"business\": 0, \"entertainment\": 1, \"politics\": 2, \"sport\": 3, \"tech\": 4 }\n",
    "        model = AutoModelForSequenceClassification.from_pretrained(\n",
    "            self.config.model_ckpt,\n",
    "            num_labels=5,\n",
    "            id2label=id2label, \n",
    "            label2id=label2id\n",
    "            ).to(device)\n",
    "        \n",
    "        \n",
    "        accuracy = evaluate.load(\"accuracy\")\n",
    "        def compute_metrics(eval_pred):\n",
    "            predictions, labels = eval_pred\n",
    "            predictions = np.argmax(predictions, axis=1)\n",
    "            return accuracy.compute(predictions=predictions, references=labels)\n",
    "\n",
    "        \n",
    "                \n",
    "        training_args = TrainingArguments(\n",
    "            output_dir=\"bert-base-cased\",\n",
    "            learning_rate=2e-5,\n",
    "            per_device_train_batch_size=4,\n",
    "            per_device_eval_batch_size=4,\n",
    "            num_train_epochs=3,\n",
    "            weight_decay=0.01,\n",
    "            eval_steps = 10,\n",
    "            evaluation_strategy=\"epoch\",\n",
    "            save_strategy=\"epoch\",\n",
    "            load_best_model_at_end=True,\n",
    "\n",
    "        )\n",
    "\n",
    "        trainer = Trainer(\n",
    "            model=model,\n",
    "            args=training_args,\n",
    "            train_dataset=train_dataset,\n",
    "            eval_dataset=val_dataset,\n",
    "            tokenizer=tokenizer,\n",
    "            compute_metrics=compute_metrics,\n",
    "        )\n",
    "\n",
    "        trainer.train()\n",
    "        trainer.evaluate()\n",
    "\n",
    "         ## Save model\n",
    "        model.save_pretrained(os.path.join(self.config.root_dir,\"bert-base-uncased-model\"))\n",
    "        ## Save tokenizer\n",
    "        tokenizer.save_pretrained(os.path.join(self.config.root_dir,\"tokenizer\"))\n",
    "\n"
   ]
  },
  {
   "cell_type": "code",
   "execution_count": 14,
   "metadata": {},
   "outputs": [
    {
     "name": "stdout",
     "output_type": "stream",
     "text": [
      "[2023-11-21 12:24:07,130:  INFO: common: yaml file:config\\config.yaml loaded successfully]\n",
      "[2023-11-21 12:24:09,412:  INFO: common: yaml file:params.yaml loaded successfully]\n",
      "[2023-11-21 12:24:09,414:  INFO: common: created directory at : artifacts]\n",
      "[2023-11-21 12:24:09,416:  INFO: common: created directory at : artifacts/model_trainer]\n",
      "cuda\n"
     ]
    },
    {
     "name": "stderr",
     "output_type": "stream",
     "text": [
      "Some weights of BertForSequenceClassification were not initialized from the model checkpoint at bert-base-uncased and are newly initialized: ['classifier.weight', 'classifier.bias']\n",
      "You should probably TRAIN this model on a down-stream task to be able to use it for predictions and inference.\n",
      "c:\\Users\\Tanjina\\anaconda3\\envs\\textSort\\lib\\site-packages\\transformers\\optimization.py:411: FutureWarning: This implementation of AdamW is deprecated and will be removed in a future version. Use the PyTorch implementation torch.optim.AdamW instead, or set `no_deprecation_warning=True` to disable this warning\n",
      "  warnings.warn(\n",
      "  0%|          | 0/225 [00:00<?, ?it/s]You're using a BertTokenizerFast tokenizer. Please note that with a fast tokenizer, using the `__call__` method is faster than using a method to encode the text followed by a call to the `pad` method to get a padded encoding.\n",
      "                                                \n",
      " 33%|███▎      | 75/225 [11:07<17:36,  7.04s/it]"
     ]
    },
    {
     "name": "stdout",
     "output_type": "stream",
     "text": [
      "{'eval_loss': 0.7591565847396851, 'eval_accuracy': 0.8322147651006712, 'eval_runtime': 33.3838, 'eval_samples_per_second': 4.463, 'eval_steps_per_second': 1.138, 'epoch': 1.0}\n"
     ]
    },
    {
     "name": "stderr",
     "output_type": "stream",
     "text": [
      "                                                 \n",
      " 67%|██████▋   | 150/225 [22:23<08:38,  6.91s/it]"
     ]
    },
    {
     "name": "stdout",
     "output_type": "stream",
     "text": [
      "{'eval_loss': 0.22947506606578827, 'eval_accuracy': 0.9731543624161074, 'eval_runtime': 32.9361, 'eval_samples_per_second': 4.524, 'eval_steps_per_second': 1.154, 'epoch': 2.0}\n"
     ]
    },
    {
     "name": "stderr",
     "output_type": "stream",
     "text": [
      "                                                 \n",
      "100%|██████████| 225/225 [32:44<00:00,  6.28s/it]"
     ]
    },
    {
     "name": "stdout",
     "output_type": "stream",
     "text": [
      "{'eval_loss': 0.1277976632118225, 'eval_accuracy': 0.9865771812080537, 'eval_runtime': 33.5438, 'eval_samples_per_second': 4.442, 'eval_steps_per_second': 1.133, 'epoch': 3.0}\n"
     ]
    },
    {
     "name": "stderr",
     "output_type": "stream",
     "text": [
      "100%|██████████| 225/225 [33:01<00:00,  8.80s/it]\n"
     ]
    },
    {
     "name": "stdout",
     "output_type": "stream",
     "text": [
      "{'train_runtime': 1981.0467, 'train_samples_per_second': 0.451, 'train_steps_per_second': 0.114, 'train_loss': 0.6336573621961805, 'epoch': 3.0}\n"
     ]
    },
    {
     "name": "stderr",
     "output_type": "stream",
     "text": [
      "100%|██████████| 38/38 [00:30<00:00,  1.26it/s]\n"
     ]
    }
   ],
   "source": [
    "try:\n",
    "    config = ConfigurationManager()\n",
    "    model_trainer_comfig = config.get_model_trainer_config()\n",
    "    model_trainer = ModeTrainer(config= model_trainer_comfig)\n",
    "    model_trainer.train()\n",
    "\n",
    "except Exception as e:\n",
    "    raise e"
   ]
  },
  {
   "cell_type": "code",
   "execution_count": 26,
   "metadata": {},
   "outputs": [],
   "source": [
    "torch.cuda.empty_cache()\n"
   ]
  },
  {
   "cell_type": "code",
   "execution_count": null,
   "metadata": {},
   "outputs": [],
   "source": []
  }
 ],
 "metadata": {
  "kernelspec": {
   "display_name": "Python 3",
   "language": "python",
   "name": "python3"
  },
  "language_info": {
   "codemirror_mode": {
    "name": "ipython",
    "version": 3
   },
   "file_extension": ".py",
   "mimetype": "text/x-python",
   "name": "python",
   "nbconvert_exporter": "python",
   "pygments_lexer": "ipython3",
   "version": "3.8.17"
  },
  "orig_nbformat": 4
 },
 "nbformat": 4,
 "nbformat_minor": 2
}
