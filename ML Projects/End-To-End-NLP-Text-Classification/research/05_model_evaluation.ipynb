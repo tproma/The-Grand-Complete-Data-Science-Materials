{
 "cells": [
  {
   "cell_type": "code",
   "execution_count": 74,
   "metadata": {},
   "outputs": [],
   "source": [
    "import os"
   ]
  },
  {
   "cell_type": "code",
   "execution_count": 75,
   "metadata": {},
   "outputs": [
    {
     "data": {
      "text/plain": [
       "'d:\\\\A_Category\\\\iNeuron\\\\End-To-End-NLP-Project-News-Article-Sorting'"
      ]
     },
     "execution_count": 75,
     "metadata": {},
     "output_type": "execute_result"
    }
   ],
   "source": [
    "%pwd"
   ]
  },
  {
   "cell_type": "code",
   "execution_count": 4,
   "metadata": {},
   "outputs": [],
   "source": [
    "os.chdir(\"../\")"
   ]
  },
  {
   "cell_type": "code",
   "execution_count": 5,
   "metadata": {},
   "outputs": [
    {
     "data": {
      "text/plain": [
       "'d:\\\\A_Category\\\\iNeuron\\\\End-To-End-NLP-Project-News-Article-Sorting'"
      ]
     },
     "execution_count": 5,
     "metadata": {},
     "output_type": "execute_result"
    }
   ],
   "source": [
    "%pwd"
   ]
  },
  {
   "cell_type": "code",
   "execution_count": 76,
   "metadata": {},
   "outputs": [],
   "source": [
    "from dataclasses import dataclass\n",
    "from pathlib import Path\n",
    "\n",
    "\n",
    "@dataclass(frozen= True)\n",
    "class ModelEvaluationConfig:\n",
    "    root_dir: Path\n",
    "    test_data_path:Path\n",
    "    model_path:  Path\n",
    "    tokenizer_path: Path\n",
    "    metric_file_name: Path\n"
   ]
  },
  {
   "cell_type": "code",
   "execution_count": 77,
   "metadata": {},
   "outputs": [],
   "source": [
    "from ArticleSorting.constants import *\n",
    "from ArticleSorting.utils.common import read_yaml, create_directories"
   ]
  },
  {
   "cell_type": "code",
   "execution_count": 78,
   "metadata": {},
   "outputs": [],
   "source": [
    "class ConfigurationManager:\n",
    "    def __init__(self, \n",
    "                 config_filepath = CONFIG_FILE_PATH,\n",
    "                 params_filepath = PARAMS_FILE_PATH):\n",
    "        \n",
    "        self.config = read_yaml(config_filepath)\n",
    "        self.params = read_yaml(params_filepath)\n",
    "\n",
    "        create_directories([self.config.artifacts_root])\n",
    "\n",
    "    \n",
    "    def get_model_evaluation_config(self) -> ModelEvaluationConfig:\n",
    "        config = self.config.model_evaluation\n",
    "      \n",
    "        create_directories([config.root_dir])\n",
    "\n",
    "        model_evaluation_config = ModelEvaluationConfig(\n",
    "            root_dir = config.root_dir,\n",
    "            test_data_path = config.test_data_path,\n",
    "            model_path = config.model_path,\n",
    "            tokenizer_path = config.tokenizer_path,\n",
    "            metric_file_name = config.metric_file_name\n",
    "\n",
    "        )\n",
    "        return model_evaluation_config\n"
   ]
  },
  {
   "cell_type": "code",
   "execution_count": 85,
   "metadata": {},
   "outputs": [],
   "source": [
    "from transformers import AutoModelForSequenceClassification, AutoTokenizer\n",
    "from datasets import load_from_disk, load_metric\n",
    "import torch\n",
    "import pandas as pd\n",
    "from tqdm import tqdm\n",
    "import evaluate\n",
    "from torch.utils.data import DataLoader\n",
    "import numpy as np\n",
    "from transformers import pipeline"
   ]
  },
  {
   "cell_type": "code",
   "execution_count": 99,
   "metadata": {},
   "outputs": [],
   "source": [
    "class ModelEvaluation:\n",
    "    def __init__(self, config: ModelEvaluationConfig) :\n",
    "        self.config = config\n",
    "        \n",
    "    \n",
    "    def evaluate(self):\n",
    "\n",
    "        device = \"cuda\" if torch.cuda.is_available() else \"cpu\"\n",
    "        kwargs = {'num_workers': 1, 'pin_memory': True} if device=='cuda' else {}\n",
    "        torch.cuda.empty_cache() # Empty cache\n",
    "\n",
    "        # Loading data\n",
    "        test_dataset = load_from_disk(self.config.test_data_path)\n",
    "        #print(test_dataset)\n",
    "\n",
    "        # DataLoader\n",
    "        test_dataloader = DataLoader(dataset=test_dataset, shuffle=True, batch_size=4, **kwargs)\n",
    "\n",
    "    \n",
    "        #Loading the model \n",
    "        model = AutoModelForSequenceClassification.from_pretrained(self.config.model_path).to(device)\n",
    "\n",
    "\n",
    "        final_output = []\n",
    "        total_acc_test = 0\n",
    "        for b_idx, data in enumerate(test_dataloader):\n",
    "            with torch.no_grad():\n",
    "                for key, value in data.items():\n",
    "                    data[key] = value.to(device)\n",
    "                output = model(**data)\n",
    "                output = output.logits.detach().cpu().numpy()\n",
    "                final_output.extend(output)\n",
    "                \n",
    "        \n",
    "        preds = np.vstack(final_output)\n",
    "        preds = np.argmax(preds, axis=1)\n",
    "        total_acc_test += sum(1 if preds[i] == test_dataset[\"labels\"][i] else 0 for i in range(len(test_dataset)))\n",
    "        Test_Accuracy = total_acc_test / len(test_dataset)\n",
    "        \n",
    "        print(f'Predictions : {preds}')\n",
    "        print(f'Labels : {test_dataset[\"labels\"]}')\n",
    "        print(f'Test Accuracy: {Test_Accuracy: .3f}')\n",
    "        \n",
    "        \n",
    "        torch.cuda.empty_cache()\n",
    "\n",
    "        \n",
    "        df = pd.DataFrame([Test_Accuracy], index=['bert'])\n",
    "        df.to_csv(self.config.metric_file_name, index=False)\n",
    "\n",
    "\n",
    "\n",
    "'''\n",
    "    #prediction code\n",
    "    def predict(self,text):\n",
    "        tokenizer = AutoTokenizer.from_pretrained(self.config.tokenizer_path)\n",
    "        \n",
    "\n",
    "        pipe = pipeline(\"text-classification\", model=self.config.model_path,tokenizer=tokenizer)\n",
    "\n",
    "        print(\"Text: \")\n",
    "        print(text)\n",
    "\n",
    "        output = pipe(text)\n",
    "        print(\"\\nText Category:\")\n",
    "        print(output)\n",
    "\n",
    "        return output\n",
    "\n",
    "'''\n",
    "\n"
   ]
  },
  {
   "cell_type": "code",
   "execution_count": 100,
   "metadata": {},
   "outputs": [
    {
     "name": "stdout",
     "output_type": "stream",
     "text": [
      "[2023-11-25 22:16:39,375:  INFO: common: yaml file:config\\config.yaml loaded successfully]\n",
      "[2023-11-25 22:16:39,380:  INFO: common: yaml file:params.yaml loaded successfully]\n",
      "[2023-11-25 22:16:39,383:  INFO: common: created directory at : artifacts]\n",
      "[2023-11-25 22:16:39,387:  INFO: common: created directory at : artifacts/model_evaluation]\n"
     ]
    },
    {
     "name": "stdout",
     "output_type": "stream",
     "text": [
      "Text: \n",
      "software watching while you work software that can not only monitor every keystroke and action performed at a pc but also be used as legally binding evidence of wrong-doing has been unveiled.  worries about cyber-crime and sabotage have prompted many employers to consider monitoring employees. the developers behind the system claim it is a break-through in the way data is monitored and stored. but privacy advocates are concerned by the invasive nature of such software.  the system is a joint venture between security firm 3ami and storage specialists bridgehead software. they have joined forces to create a system which can monitor computer activity  store it and retrieve disputed files within minutes. more and more firms are finding themselves in deep water as a result of data misuse\n",
      "\n",
      "Text Category:\n",
      "[{'label': 'tech', 'score': 0.9918599724769592}]\n"
     ]
    }
   ],
   "source": [
    "'''\n",
    "# Trying out the prediction using the model and tokenizer path\n",
    "try:\n",
    "    config = ConfigurationManager()\n",
    "    model_evaluation_config = config.get_model_evaluation_config()\n",
    "    model_evaluation = ModelEvaluation(config= model_evaluation_config)\n",
    "    output = model_evaluation.predict(\"software watching while you work software that can not only monitor every keystroke and action performed at a pc but also be used as legally binding evidence of wrong-doing has been unveiled.  worries about cyber-crime and sabotage have prompted many employers to consider monitoring employees. the developers behind the system claim it is a break-through in the way data is monitored and stored. but privacy advocates are concerned by the invasive nature of such software.  the system is a joint venture between security firm 3ami and storage specialists bridgehead software. they have joined forces to create a system which can monitor computer activity  store it and retrieve disputed files within minutes. more and more firms are finding themselves in deep water as a result of data misuse\")\n",
    "\n",
    "except Exception as e:\n",
    "    raise e\n",
    "\n",
    "'''"
   ]
  },
  {
   "cell_type": "code",
   "execution_count": 81,
   "metadata": {},
   "outputs": [
    {
     "name": "stdout",
     "output_type": "stream",
     "text": [
      "[2023-11-23 22:21:28,917:  INFO: common: yaml file:config\\config.yaml loaded successfully]\n",
      "[2023-11-23 22:21:28,922:  INFO: common: yaml file:params.yaml loaded successfully]\n",
      "[2023-11-23 22:21:28,925:  INFO: common: created directory at : artifacts]\n",
      "[2023-11-23 22:21:28,932:  INFO: common: created directory at : artifacts/model_evaluation]\n"
     ]
    },
    {
     "name": "stdout",
     "output_type": "stream",
     "text": [
      "Predictions : [4 2 1 3 1 2 3 0 1 3 2 1 0 1 1 4 2 4 4 1 4 1 0 0 2 3 0 2 4 0 3 0 4 3 2 4 4\n",
      " 1 3 1 0 1 0 3 2 1 2 2 1 4 4 1 0 3 3 1 1 2 0 0 1 3 1 2 0 3 0 4 2 3 0 3 4 0\n",
      " 3 4 3 0 4 1 3 4 0 3 3 3 0 2 2 2 1 1 1 4 0 4 1 4 0 2 0 4 4 4 1 2 4 4 0 2 0\n",
      " 0 2 1 0 1 0 3 3 2 2 1 4 3 3 2 3 0 3 1 0 2 3 1 3 2 4 0 1 0 3 3 0 0 3 0 1 4\n",
      " 2]\n",
      "Labels : tensor([0, 2, 0, 1, 3, 1, 1, 2, 0, 3, 1, 0, 3, 0, 3, 0, 2, 4, 3, 1, 0, 1, 2, 0,\n",
      "        1, 4, 3, 1, 2, 3, 2, 0, 2, 3, 2, 3, 0, 3, 0, 3, 3, 0, 3, 1, 0, 1, 2, 1,\n",
      "        3, 2, 2, 1, 1, 4, 3, 1, 4, 4, 0, 4, 4, 1, 3, 1, 0, 2, 3, 4, 0, 1, 1, 0,\n",
      "        0, 1, 1, 4, 4, 0, 4, 2, 2, 4, 1, 0, 1, 1, 4, 0, 2, 1, 3, 1, 4, 1, 2, 2,\n",
      "        0, 3, 0, 2, 0, 2, 0, 4, 2, 0, 3, 0, 3, 0, 1, 3, 1, 2, 2, 4, 0, 4, 1, 3,\n",
      "        4, 0, 0, 3, 0, 4, 0, 4, 1, 2, 4, 3, 3, 4, 4, 2, 3, 2, 3, 3, 0, 4, 3, 4,\n",
      "        3, 4, 2, 4, 1])\n",
      "Test Accuracy:  0.228\n"
     ]
    }
   ],
   "source": [
    "try:\n",
    "    config = ConfigurationManager()\n",
    "    model_evaluation_config = config.get_model_evaluation_config()\n",
    "    model_evaluation = ModelEvaluation(config= model_evaluation_config)\n",
    "    model_evaluation.evaluate()\n",
    "\n",
    "except Exception as e:\n",
    "    raise e"
   ]
  },
  {
   "cell_type": "code",
   "execution_count": 83,
   "metadata": {},
   "outputs": [],
   "source": [
    "torch.cuda.empty_cache()"
   ]
  },
  {
   "cell_type": "code",
   "execution_count": 84,
   "metadata": {},
   "outputs": [],
   "source": [
    "from transformers import pipeline\n"
   ]
  },
  {
   "cell_type": "code",
   "execution_count": null,
   "metadata": {},
   "outputs": [],
   "source": []
  }
 ],
 "metadata": {
  "kernelspec": {
   "display_name": "Python 3",
   "language": "python",
   "name": "python3"
  },
  "language_info": {
   "codemirror_mode": {
    "name": "ipython",
    "version": 3
   },
   "file_extension": ".py",
   "mimetype": "text/x-python",
   "name": "python",
   "nbconvert_exporter": "python",
   "pygments_lexer": "ipython3",
   "version": "3.8.17"
  },
  "orig_nbformat": 4
 },
 "nbformat": 4,
 "nbformat_minor": 2
}
